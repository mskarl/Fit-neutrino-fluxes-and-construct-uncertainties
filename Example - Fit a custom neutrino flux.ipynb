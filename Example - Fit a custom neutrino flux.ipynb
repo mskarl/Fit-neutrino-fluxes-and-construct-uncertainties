{
 "cells": [
  {
   "cell_type": "markdown",
   "id": "71bd277b",
   "metadata": {},
   "source": [
    "# Fit the flux with a different spectrum (for example a peaked p$\\gamma$ spectrum)\n",
    "\n",
    "For this example, you need skyllh installed and the IceCube public 10 years point source data. Specify the correct paths in the `.env` file."
   ]
  },
  {
   "cell_type": "code",
   "execution_count": 22,
   "id": "4c04bbe1",
   "metadata": {},
   "outputs": [],
   "source": [
    "import icecube_flux\n",
    "import numpy as np\n",
    "import os\n"
   ]
  },
  {
   "cell_type": "markdown",
   "id": "98f28e20",
   "metadata": {},
   "source": [
    "Create the source object from icecube_flux. You specify the position in right ascension and declination in degrees. Name is optional, but can be used for storing data and plots. "
   ]
  },
  {
   "cell_type": "code",
   "execution_count": 3,
   "id": "a69f5e2e",
   "metadata": {},
   "outputs": [],
   "source": [
    "my_source = icecube_flux.Source(ra=77.35818516, dec=5.69314828, name=\"TXS 0506+056\")"
   ]
  },
  {
   "cell_type": "markdown",
   "id": "b63e5f8c",
   "metadata": {},
   "source": [
    "For a different spectrum, we need to provide arrays with energy and the respective flux values. Load here whatever fluxes you want to fit. "
   ]
  },
  {
   "cell_type": "code",
   "execution_count": 9,
   "id": "64d650b3",
   "metadata": {},
   "outputs": [],
   "source": [
    "# arrays need to have the same shape. each energy value needs one flux value. \n",
    "custom_flux = np.load(os.path.join(os.getenv(\"TABLE_PATH\"), \"nu_template_nufnu_gev_percmsq_persecond.npy\"))\n",
    "custom_energy = np.load(os.path.join(os.getenv(\"TABLE_PATH\"), \"nu_template_energy_gev.npy\"))"
   ]
  },
  {
   "cell_type": "markdown",
   "id": "6a2c5d50",
   "metadata": {},
   "source": [
    "Fit the flux. If the analysis instance has not yet been created, it will first create the instance and then fit the flux. For the creation, we need to provide the arrays with energy and corresponding flux values."
   ]
  },
  {
   "cell_type": "code",
   "execution_count": 8,
   "id": "6240bcb2",
   "metadata": {},
   "outputs": [
    {
     "name": "stdout",
     "output_type": "stream",
     "text": [
      "calculating best fit flux\n",
      "creating epeak analysis\n"
     ]
    },
    {
     "name": "stderr",
     "output_type": "stream",
     "text": [
      "100%|█████████████████████████████████████████████████████████████████████████████████████████████████████████████████████████████████████████████████████████████████████████████████████████████████████████████████████████████████████████████████████████████████████████████████████| 228/228 [00:23<00:00,  9.59it/s]\n",
      "100%|█████████████████████████████████████████████████████████████████████████████████████████████████████████████████████████████████████████████████████████████████████████████████████████████████████████████████████████████████████████████████████████████████████████████████████| 228/228 [00:22<00:00, 10.14it/s]\n",
      "100%|█████████████████████████████████████████████████████████████████████████████████████████████████████████████████████████████████████████████████████████████████████████████████████████████████████████████████████████████████████████████████████████████████████████████████████| 228/228 [00:24<00:00,  9.33it/s]\n",
      "100%|█████████████████████████████████████████████████████████████████████████████████████████████████████████████████████████████████████████████████████████████████████████████████████████████████████████████████████████████████████████████████████████████████████████████████████| 228/228 [00:23<00:00,  9.74it/s]\n",
      "100%|█████████████████████████████████████████████████████████████████████████████████████████████████████████████████████████████████████████████████████████████████████████████████████████████████████████████████████████████████████████████████████████████████████████████████████| 228/228 [00:28<00:00,  8.06it/s]\n",
      "100%|█████████████████████████████████████████████████████████████████████████████████████████████████████████████████████████████████████████████████████████████████████████████████████████████████████████████████████████████████████████████████████████████████████████████████████████| 5/5 [02:15<00:00, 27.13s/it]\n",
      "100%|██████████████████████████████████████████████████████████████████████████████████████████████████████████████████████████████████████████████████████████████████████████████████████████████████████████████████████████████████████████████████████████████████████████████████| 1145/1145 [00:03<00:00, 308.60it/s]\n"
     ]
    }
   ],
   "source": [
    "flux_norm, epeak = my_source.calculate_epeak_neutrino_flux(epeak_min=1, epeak_max=10, \n",
    "                                                           source_energies=custom_energy, \n",
    "                                                          source_energy_spectrum=custom_flux)"
   ]
  },
  {
   "cell_type": "markdown",
   "id": "a5b76c01",
   "metadata": {},
   "source": [
    "Print the fit parameter. The flux normalization is at the peak energy in units of (1/GeV s cm$^2$ sr). The peak energy is given as $\\log(E_\\mathrm{peak})$. "
   ]
  },
  {
   "cell_type": "code",
   "execution_count": 10,
   "id": "78f8fbb3",
   "metadata": {},
   "outputs": [
    {
     "data": {
      "text/plain": [
       "(1.7481610405885402e-19, 4.961598604496695)"
      ]
     },
     "execution_count": 10,
     "metadata": {},
     "output_type": "execute_result"
    }
   ],
   "source": [
    "flux_norm, epeak"
   ]
  },
  {
   "cell_type": "code",
   "execution_count": 17,
   "id": "f831078b",
   "metadata": {},
   "outputs": [
    {
     "data": {
      "text/plain": [
       "(1.7481610405885402e-19, 4.961598604496695, 9.748201298710924)"
      ]
     },
     "execution_count": 17,
     "metadata": {},
     "output_type": "execute_result"
    }
   ],
   "source": [
    "my_source.flux_in_GeV, my_source.e_peak, my_source.ns"
   ]
  },
  {
   "cell_type": "code",
   "execution_count": 20,
   "id": "690dc6f8",
   "metadata": {},
   "outputs": [
    {
     "name": "stdout",
     "output_type": "stream",
     "text": [
      "We fit a flux with a peak at 91.53740670180764 TeV and a peak flux of 1.4648010625994103e-12 (TeV s cm cm sr)\n"
     ]
    }
   ],
   "source": [
    "peak_in_TeV = (10**epeak) / 1000\n",
    "print(\"We fit a flux with a peak at {} TeV and a peak flux of {} (TeV s cm cm sr)\".format(peak_in_TeV, \n",
    "                                                                          flux_norm * 1000 * peak_in_TeV**2))"
   ]
  },
  {
   "cell_type": "markdown",
   "id": "a216b6c9",
   "metadata": {},
   "source": [
    "### Energy range\n",
    "In case we want to know the energy range precisely (see the power law neutrino flux notebook for an explanation or [Appendix A2 in M. Karl, et al., MNRAS, 2023](https://academic.oup.com/mnras/article/526/1/661/7269217))"
   ]
  },
  {
   "cell_type": "code",
   "execution_count": 19,
   "id": "2fd04fbe",
   "metadata": {},
   "outputs": [
    {
     "name": "stdout",
     "output_type": "stream",
     "text": [
      "The flux is valid between 15848.93 GeV and 251188.64 GeV\n"
     ]
    }
   ],
   "source": [
    "log_emin, log_emax = my_source.get_correct_energy_range()\n",
    "print(\"The flux is valid between {:.2f} GeV and {:.2f} GeV\".format(10**log_emin, 10**log_emax))"
   ]
  },
  {
   "cell_type": "code",
   "execution_count": null,
   "id": "b9fade91",
   "metadata": {},
   "outputs": [],
   "source": []
  }
 ],
 "metadata": {
  "kernelspec": {
   "display_name": "pyenv_neutrinos",
   "language": "python",
   "name": "pyenv_neutrinos"
  },
  "language_info": {
   "codemirror_mode": {
    "name": "ipython",
    "version": 3
   },
   "file_extension": ".py",
   "mimetype": "text/x-python",
   "name": "python",
   "nbconvert_exporter": "python",
   "pygments_lexer": "ipython3",
   "version": "3.10.12"
  }
 },
 "nbformat": 4,
 "nbformat_minor": 5
}
